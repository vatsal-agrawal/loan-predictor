{
  "nbformat": 4,
  "nbformat_minor": 0,
  "metadata": {
    "colab": {
      "name": "Untitled220.ipynb",
      "provenance": []
    },
    "kernelspec": {
      "name": "python3",
      "display_name": "Python 3"
    }
  },
  "cells": [
    {
      "cell_type": "code",
      "metadata": {
        "id": "wxsQxBRMCWGw",
        "colab_type": "code",
        "colab": {
          "base_uri": "https://localhost:8080/",
          "height": 34
        },
        "outputId": "c39aeaac-7ecb-48fe-f73d-2692712abfd0"
      },
      "source": [
        "import pickle\n",
        "import pandas as pd\n",
        "data = pd.read_csv('credit_data.csv')\n",
        "data.drop(['clientid'], axis=1, inplace=True)\n",
        "x = data.iloc[:,0:4]\n",
        "y = data['default']\n",
        "from sklearn.model_selection import train_test_split\n",
        "x_train, x_test, y_train, y_test = train_test_split(x,y,test_size=0.30)\n",
        "from sklearn.linear_model import LogisticRegression\n",
        "model = LogisticRegression()\n",
        "#Fitting model with trainig data\n",
        "model1 = model.fit(x, y)\n",
        "\n",
        "# Saving model to disk\n",
        "pickle.dump(model, open('model.pkl','wb'))\n",
        "\n",
        "# Loading model to compare the results\n",
        "model = pickle.load(open('model.pkl','rb'))\n",
        "print(model.predict([[2, 9, 6,7]]))"
      ],
      "execution_count": 5,
      "outputs": [
        {
          "output_type": "stream",
          "text": [
            "[0]\n"
          ],
          "name": "stdout"
        }
      ]
    },
    {
      "cell_type": "code",
      "metadata": {
        "id": "U0PimHV6FmGQ",
        "colab_type": "code",
        "colab": {}
      },
      "source": [
        ""
      ],
      "execution_count": 0,
      "outputs": []
    }
  ]
}